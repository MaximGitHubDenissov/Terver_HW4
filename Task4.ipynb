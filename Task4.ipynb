{
 "cells": [
  {
   "attachments": {},
   "cell_type": "markdown",
   "metadata": {},
   "source": [
    "Задача 4. Рост взрослого населения города X имеет нормальное распределение, причем, средний рост равен 174 см, а среднее квадратическое отклонение равно 8 см. посчитайте, какова вероятность того, что случайным образом выбранный взрослый человек имеет рост:\n",
    "1. больше 182 см?\n",
    "2. больше 190 см?\n",
    "3. от 166 см до 190 см?\n",
    "4. от 166 см до 182 см?\n",
    "5. от 158 см до 190 см?\n",
    "6. не выше 150 см или не ниже 190 см?\n",
    "7. не выше 150 см или не ниже 198 см?\n",
    "8. ниже 166 см?\n",
    "\n",
    "Задачу можно решить двумя способами: без использования сторонних библиотек (numpy, scipy, pandas и пр.), а затем проверить себя с помощью встроенных функций"
   ]
  },
  {
   "cell_type": "code",
   "execution_count": 2,
   "metadata": {},
   "outputs": [],
   "source": [
    "from scipy import stats"
   ]
  },
  {
   "cell_type": "code",
   "execution_count": 30,
   "metadata": {},
   "outputs": [
    {
     "name": "stdout",
     "output_type": "stream",
     "text": [
      "0.15865525393145707\n",
      "0.02275013194817921\n",
      "0.8185946141203637\n",
      "0.6826894921370859\n",
      "0.9544997361036416\n",
      "0.0241000299798093\n",
      "0.0026997960632601965\n",
      "0.15865525393145707\n"
     ]
    }
   ],
   "source": [
    "M = 174\n",
    "sko = 8\n",
    "x1 = 1- stats.norm.cdf(182, loc=174,scale =8)\n",
    "x2 = 1- stats.norm.cdf(190, loc=174,scale = 8)\n",
    "x3 = stats.norm.cdf(166,loc=174,scale=8)\n",
    "y3 = stats.norm.cdf(190,loc=174,scale = 8)\n",
    "z3 = y3-x3\n",
    "x4 = stats.norm.cdf(166,loc=174,scale=8)\n",
    "y4 = stats.norm.cdf(182, loc=174,scale =8)\n",
    "z4 = y4-x4\n",
    "x5 = stats.norm.cdf(158,loc=174,scale=8)\n",
    "y5 = stats.norm.cdf(190, loc=174,scale=8)\n",
    "z5 = y5-x5\n",
    "x6 = stats.norm.cdf(150,loc=174,scale=8)\n",
    "y6 = 1 - stats.norm.cdf(190,loc=174,scale=8)\n",
    "z6 = x6+y6\n",
    "x7 = stats.norm.cdf(150,loc=174,scale=8)\n",
    "y7 = 1-stats.norm.cdf(198,loc=174,scale=8)\n",
    "z7 = x7+y7\n",
    "x8 = stats.norm.cdf(166,loc=174,scale=8)\n",
    "print(x1)\n",
    "print(x2)\n",
    "print(z3)\n",
    "print(z4)\n",
    "print(z5)\n",
    "print(z6)\n",
    "print(z7)\n",
    "print(x8)\n"
   ]
  }
 ],
 "metadata": {
  "kernelspec": {
   "display_name": "Python 3",
   "language": "python",
   "name": "python3"
  },
  "language_info": {
   "codemirror_mode": {
    "name": "ipython",
    "version": 3
   },
   "file_extension": ".py",
   "mimetype": "text/x-python",
   "name": "python",
   "nbconvert_exporter": "python",
   "pygments_lexer": "ipython3",
   "version": "3.10.11"
  },
  "orig_nbformat": 4
 },
 "nbformat": 4,
 "nbformat_minor": 2
}
